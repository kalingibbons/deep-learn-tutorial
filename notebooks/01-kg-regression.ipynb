{
 "cells": [
  {
   "cell_type": "markdown",
   "metadata": {},
   "source": [
    " # Regression with PyTorch\n",
    " This notebook will show you how to do a simple regression with PyTorch. We will use\n",
    " the  [California housing\n",
    " dataset](https://scikit-learn.org/stable/datasets/real_world.html#california-housing-dataset)\n",
    " to estimate the median house value in a given block based on a number of household\n",
    " features.\n",
    " > Note: Example pulled from [here](https://machinelearningmastery.com/building-a-regression-model-in-pytorch/)"
   ]
  },
  {
   "cell_type": "markdown",
   "metadata": {},
   "source": [
    " ##Handle our imports in one block for reproduciability."
   ]
  },
  {
   "cell_type": "code",
   "execution_count": 1,
   "metadata": {},
   "outputs": [],
   "source": [
    "%matplotlib inline\n",
    "\n",
    "import copy\n",
    "\n",
    "import matplotlib.pyplot as plt\n",
    "import numpy as np\n",
    "import pandas as pd\n",
    "import torch\n",
    "import torch.nn as nn\n",
    "import torch.optim as optim\n",
    "import tqdm.auto\n",
    "from sklearn.datasets import fetch_california_housing\n",
    "from sklearn.model_selection import train_test_split\n",
    "from sklearn.preprocessing import StandardScaler\n"
   ]
  },
  {
   "cell_type": "markdown",
   "metadata": {},
   "source": [
    " ## Load our data\n",
    " Most machine learning frameworks include (cleaned) toy datasets for learning concepts and\n",
    " benchmarking. Here's how we can load the California housing dataset from scikit-learn.\n",
    " It can be used like a dictionary, but with dot-indexing as well."
   ]
  },
  {
   "cell_type": "code",
   "execution_count": 2,
   "metadata": {},
   "outputs": [
    {
     "name": "stdout",
     "output_type": "stream",
     "text": [
      "data\n",
      "target\n",
      "frame\n",
      "target_names\n",
      "feature_names\n",
      "DESCR\n"
     ]
    }
   ],
   "source": [
    "data = fetch_california_housing()\n",
    "_ = [print(f\"{k}\") for k in data.keys()]\n"
   ]
  },
  {
   "cell_type": "markdown",
   "metadata": {},
   "source": [
    " We're interested in the data and target values. The data is a 2D array of features,\n",
    " and the target is a 1D array of the median house value in a given block. Let's check\n",
    " their names"
   ]
  },
  {
   "cell_type": "code",
   "execution_count": 3,
   "metadata": {},
   "outputs": [
    {
     "name": "stdout",
     "output_type": "stream",
     "text": [
      "Target: ['MedHouseVal']\n",
      "Features: ['MedInc', 'HouseAge', 'AveRooms', 'AveBedrms', 'Population', 'AveOccup', 'Latitude', 'Longitude']\n"
     ]
    }
   ],
   "source": [
    "print(f\"Target: {data.target_names}\")\n",
    "print(f\"Features: {data.feature_names}\")\n",
    "\n"
   ]
  },
  {
   "cell_type": "markdown",
   "metadata": {},
   "source": [
    " Let's get those into a pandas dataframe for easier inspection.\n",
    " > Note: the median house value is in units of 100,000 USD"
   ]
  },
  {
   "cell_type": "code",
   "execution_count": 4,
   "metadata": {},
   "outputs": [
    {
     "data": {
      "text/html": [
       "<div>\n",
       "<style scoped>\n",
       "    .dataframe tbody tr th:only-of-type {\n",
       "        vertical-align: middle;\n",
       "    }\n",
       "\n",
       "    .dataframe tbody tr th {\n",
       "        vertical-align: top;\n",
       "    }\n",
       "\n",
       "    .dataframe thead th {\n",
       "        text-align: right;\n",
       "    }\n",
       "</style>\n",
       "<table border=\"1\" class=\"dataframe\">\n",
       "  <thead>\n",
       "    <tr style=\"text-align: right;\">\n",
       "      <th></th>\n",
       "      <th>MedInc</th>\n",
       "      <th>HouseAge</th>\n",
       "      <th>AveRooms</th>\n",
       "      <th>AveBedrms</th>\n",
       "      <th>Population</th>\n",
       "      <th>AveOccup</th>\n",
       "      <th>Latitude</th>\n",
       "      <th>Longitude</th>\n",
       "      <th>MedHouseVal</th>\n",
       "    </tr>\n",
       "  </thead>\n",
       "  <tbody>\n",
       "    <tr>\n",
       "      <th>count</th>\n",
       "      <td>20640.000000</td>\n",
       "      <td>20640.000000</td>\n",
       "      <td>20640.000000</td>\n",
       "      <td>20640.000000</td>\n",
       "      <td>20640.000000</td>\n",
       "      <td>20640.000000</td>\n",
       "      <td>20640.000000</td>\n",
       "      <td>20640.000000</td>\n",
       "      <td>20640.000000</td>\n",
       "    </tr>\n",
       "    <tr>\n",
       "      <th>mean</th>\n",
       "      <td>3.870671</td>\n",
       "      <td>28.639486</td>\n",
       "      <td>5.429000</td>\n",
       "      <td>1.096675</td>\n",
       "      <td>1425.476744</td>\n",
       "      <td>3.070655</td>\n",
       "      <td>35.631861</td>\n",
       "      <td>-119.569704</td>\n",
       "      <td>2.068558</td>\n",
       "    </tr>\n",
       "    <tr>\n",
       "      <th>std</th>\n",
       "      <td>1.899822</td>\n",
       "      <td>12.585558</td>\n",
       "      <td>2.474173</td>\n",
       "      <td>0.473911</td>\n",
       "      <td>1132.462122</td>\n",
       "      <td>10.386050</td>\n",
       "      <td>2.135952</td>\n",
       "      <td>2.003532</td>\n",
       "      <td>1.153956</td>\n",
       "    </tr>\n",
       "    <tr>\n",
       "      <th>min</th>\n",
       "      <td>0.499900</td>\n",
       "      <td>1.000000</td>\n",
       "      <td>0.846154</td>\n",
       "      <td>0.333333</td>\n",
       "      <td>3.000000</td>\n",
       "      <td>0.692308</td>\n",
       "      <td>32.540000</td>\n",
       "      <td>-124.350000</td>\n",
       "      <td>0.149990</td>\n",
       "    </tr>\n",
       "    <tr>\n",
       "      <th>25%</th>\n",
       "      <td>2.563400</td>\n",
       "      <td>18.000000</td>\n",
       "      <td>4.440716</td>\n",
       "      <td>1.006079</td>\n",
       "      <td>787.000000</td>\n",
       "      <td>2.429741</td>\n",
       "      <td>33.930000</td>\n",
       "      <td>-121.800000</td>\n",
       "      <td>1.196000</td>\n",
       "    </tr>\n",
       "    <tr>\n",
       "      <th>50%</th>\n",
       "      <td>3.534800</td>\n",
       "      <td>29.000000</td>\n",
       "      <td>5.229129</td>\n",
       "      <td>1.048780</td>\n",
       "      <td>1166.000000</td>\n",
       "      <td>2.818116</td>\n",
       "      <td>34.260000</td>\n",
       "      <td>-118.490000</td>\n",
       "      <td>1.797000</td>\n",
       "    </tr>\n",
       "    <tr>\n",
       "      <th>75%</th>\n",
       "      <td>4.743250</td>\n",
       "      <td>37.000000</td>\n",
       "      <td>6.052381</td>\n",
       "      <td>1.099526</td>\n",
       "      <td>1725.000000</td>\n",
       "      <td>3.282261</td>\n",
       "      <td>37.710000</td>\n",
       "      <td>-118.010000</td>\n",
       "      <td>2.647250</td>\n",
       "    </tr>\n",
       "    <tr>\n",
       "      <th>max</th>\n",
       "      <td>15.000100</td>\n",
       "      <td>52.000000</td>\n",
       "      <td>141.909091</td>\n",
       "      <td>34.066667</td>\n",
       "      <td>35682.000000</td>\n",
       "      <td>1243.333333</td>\n",
       "      <td>41.950000</td>\n",
       "      <td>-114.310000</td>\n",
       "      <td>5.000010</td>\n",
       "    </tr>\n",
       "  </tbody>\n",
       "</table>\n",
       "</div>"
      ],
      "text/plain": [
       "             MedInc      HouseAge      AveRooms     AveBedrms    Population  \\\n",
       "count  20640.000000  20640.000000  20640.000000  20640.000000  20640.000000   \n",
       "mean       3.870671     28.639486      5.429000      1.096675   1425.476744   \n",
       "std        1.899822     12.585558      2.474173      0.473911   1132.462122   \n",
       "min        0.499900      1.000000      0.846154      0.333333      3.000000   \n",
       "25%        2.563400     18.000000      4.440716      1.006079    787.000000   \n",
       "50%        3.534800     29.000000      5.229129      1.048780   1166.000000   \n",
       "75%        4.743250     37.000000      6.052381      1.099526   1725.000000   \n",
       "max       15.000100     52.000000    141.909091     34.066667  35682.000000   \n",
       "\n",
       "           AveOccup      Latitude     Longitude   MedHouseVal  \n",
       "count  20640.000000  20640.000000  20640.000000  20640.000000  \n",
       "mean       3.070655     35.631861   -119.569704      2.068558  \n",
       "std       10.386050      2.135952      2.003532      1.153956  \n",
       "min        0.692308     32.540000   -124.350000      0.149990  \n",
       "25%        2.429741     33.930000   -121.800000      1.196000  \n",
       "50%        2.818116     34.260000   -118.490000      1.797000  \n",
       "75%        3.282261     37.710000   -118.010000      2.647250  \n",
       "max     1243.333333     41.950000   -114.310000      5.000010  "
      ]
     },
     "execution_count": 4,
     "metadata": {},
     "output_type": "execute_result"
    }
   ],
   "source": [
    "df = pd.DataFrame(data.data, columns=data.feature_names)\n",
    "df[data.target_names[0]] = data.target\n",
    "df.describe()\n"
   ]
  },
  {
   "cell_type": "markdown",
   "metadata": {},
   "source": [
    " ## Data Preparation\n",
    " We need to split our data into training and validation sets. We'll use 70% of the data\n",
    " for training and 30% for validation. We'll also standardize the data to have a mean of 0\n",
    " and a standard deviation of 1. This is a common preprocessing step for neural\n",
    " networks.\n",
    " Note: Scikit sticks to numpy arrays, with generic names, so we'll use those. You\n",
    " should also split your data into training, validation, and _test_ sets for real\n",
    " research. When you're tuning your hyperparameters, you're likely to overfit to your\n",
    " validation data, so you need to keep a separate test set to evaluate your model on\n",
    " after you've finished tuning."
   ]
  },
  {
   "cell_type": "markdown",
   "metadata": {},
   "source": [
    " Train-validate split for model evaluation."
   ]
  },
  {
   "cell_type": "code",
   "execution_count": 5,
   "metadata": {},
   "outputs": [
    {
     "name": "stdout",
     "output_type": "stream",
     "text": [
      "Training data shape: (14447, 8)\n",
      "Validation data shape: (6193, 8)\n"
     ]
    }
   ],
   "source": [
    "X, y = data.data, data.target\n",
    "X_train_raw, X_valid_raw, y_train, y_valid = train_test_split(\n",
    "    X, y, train_size=0.7, shuffle=True\n",
    ")\n",
    "\n",
    "print(f\"Training data shape: {X_train_raw.shape}\")\n",
    "print(f\"Validation data shape: {X_valid_raw.shape}\")\n"
   ]
  },
  {
   "cell_type": "markdown",
   "metadata": {},
   "source": [
    " Standardizing data using scikit-learn's `StandardScaler`. Scaling will improve the\n",
    " model accuracy, but I found it increased the runtime a bit."
   ]
  },
  {
   "cell_type": "code",
   "execution_count": 6,
   "metadata": {},
   "outputs": [],
   "source": [
    "use_scaling = True\n",
    "if use_scaling:\n",
    "    scaler = StandardScaler()  # There's more options than this one\n",
    "    scaler.fit(X_train_raw)\n",
    "    X_train = scaler.transform(X_train_raw)\n",
    "    X_valid = scaler.transform(X_valid_raw)\n",
    "else:\n",
    "    X_train = X_train_raw\n",
    "    X_valid = X_valid_raw\n",
    "\n",
    "# Convert to 2D PyTorch tensors\n",
    "X_train = torch.tensor(X_train, dtype=torch.float32)\n",
    "y_train = torch.tensor(y_train, dtype=torch.float32).reshape(-1, 1)\n",
    "X_valid = torch.tensor(X_valid, dtype=torch.float32)\n",
    "y_valid = torch.tensor(y_valid, dtype=torch.float32).reshape(-1, 1)\n"
   ]
  },
  {
   "cell_type": "markdown",
   "metadata": {},
   "source": [
    " ## Defining our network\n",
    " Remember that we need the following items to train a neural network:\n",
    " - Data\n",
    " - A model\n",
    " - A loss function\n",
    " - An optimizer"
   ]
  },
  {
   "cell_type": "markdown",
   "metadata": {},
   "source": [
    " ### Defining the model\n",
    " We'll use a simple feed-forward neural network with 4 layers. I'm leaving these\n",
    " hardcoded, but notice that the input and output sizes are determined by the number of\n",
    " features (columns) in our X data and the number of feautures (columns) in our y data.\n",
    "\n",
    " The linear layers are the same matrix multiplication we saw in the slides. The ReLU is\n",
    " a commonly used activation function that keeps only positive values and introduces\n",
    " nonlinearity.  Since successive linear matrix multiplications can be represented with\n",
    " a single matrix, every intermediate (hidden) layer needs a nonlinear activation\n",
    " function.\n",
    " This network is using a structure where we decrease the number of \"neurons\" (weights)\n",
    " in each layer. This one is using a halving scheme, but you can try others. If we made\n",
    " this into a function, we could say how many layers we want, and how many neurons in\n",
    " the first layer, and try more options."
   ]
  },
  {
   "cell_type": "code",
   "execution_count": 7,
   "metadata": {},
   "outputs": [],
   "source": [
    "model = nn.Sequential(\n",
    "    nn.Linear(in_features=8, out_features=24),  # Z_i = W_ij * x_j + b_i\n",
    "    nn.ReLU(),  # keep only positive values, introduce nonlinearity\n",
    "    nn.Linear(in_features=24, out_features=12),\n",
    "    nn.ReLU(),\n",
    "    nn.Linear(in_features=12, out_features=6),\n",
    "    nn.ReLU(),\n",
    "    nn.Linear(in_features=6, out_features=1),\n",
    ")\n"
   ]
  },
  {
   "cell_type": "markdown",
   "metadata": {},
   "source": [
    " ### Loss function and optimizer\n",
    " We'll use mean squared error (MSE) as our loss function. This is a common loss\n",
    " function for regression tasks. We'll use the Adam optimizer which stands for Adaptive\n",
    " Moment Estimation. It's a common optimizer that uses adaptive learning rates and\n",
    " momentum (equation term for getting out of local minima) to speed up convergence."
   ]
  },
  {
   "cell_type": "code",
   "execution_count": 8,
   "metadata": {},
   "outputs": [],
   "source": [
    "loss_fn = nn.MSELoss()  # mean square error\n",
    "optimizer = optim.Adam(model.parameters(), lr=0.0001)\n"
   ]
  },
  {
   "cell_type": "markdown",
   "metadata": {},
   "source": [
    " ## Training\n",
    " We'll train for 4 epochs (passes through the data) with a batch size of 10. Training\n",
    " takes a while, so we'll use the `tqdm` library to show progress bars. We'll also keep\n",
    " track of the best model weights and return those at the end. We'll need two loops, one\n",
    " for each epoch and one for each batch.\n",
    " Reminder of what a training loop looks like:\n",
    "\n",
    " ![network-structure](../attachments/01-kg-regression/network-structure.png)\n",
    " \n",
    " Our model will already have the initial weights, so we don't need to initialize them\n",
    " manually."
   ]
  },
  {
   "cell_type": "code",
   "execution_count": 9,
   "metadata": {},
   "outputs": [
    {
     "data": {
      "application/vnd.jupyter.widget-view+json": {
       "model_id": "e1a63094dccc4e759c4fd2a8ab0acfba",
       "version_major": 2,
       "version_minor": 0
      },
      "text/plain": [
       "  0%|          | 0/100 [00:00<?, ?epoch/s]"
      ]
     },
     "metadata": {},
     "output_type": "display_data"
    }
   ],
   "source": [
    "n_epochs = 100  # number of epochs to train for\n",
    "batch_size = 10  # size of each batch\n",
    "batch_start = torch.arange(0, len(X_train), batch_size)  # start index of each batch\n",
    "\n",
    "# Hold the best model\n",
    "best_mse = np.inf  # init to infinity\n",
    "best_weights = None\n",
    "train_history = []\n",
    "valid_history = []\n",
    "\n",
    "with tqdm.notebook.trange(n_epochs, unit=\"epoch\") as bar:\n",
    "    bar.set_description(\"Epoch Progress\")\n",
    "    for epoch in bar:\n",
    "        model.train()\n",
    "        for start in batch_start:\n",
    "            # take a batch\n",
    "            X_batch = X_train[start : start + batch_size]\n",
    "            y_batch = y_train[start : start + batch_size]\n",
    "            # forward pass (calculating our model predictions)\n",
    "            y_valid_pred = model(X_batch)\n",
    "            loss = loss_fn(y_valid_pred, y_batch)\n",
    "            # backward pass (calculate gradients)\n",
    "            optimizer.zero_grad()\n",
    "            loss.backward()  # backward propagation\n",
    "            # update weights\n",
    "            optimizer.step()\n",
    "            # print progress\n",
    "            bar.set_postfix(mse=float(loss))\n",
    "\n",
    "        # evaluate our chosen loss metric at end of each epoch\n",
    "        model.eval()\n",
    "\n",
    "        # Evaluate the model on the training and validation data\n",
    "        y_train_pred = model(X_train)\n",
    "        train_mse = loss_fn(y_train_pred, y_train)\n",
    "        train_mse = float(train_mse)\n",
    "        train_history.append(train_mse)\n",
    "\n",
    "        y_valid_pred = model(X_valid)\n",
    "        valid_mse = loss_fn(y_valid_pred, y_valid)\n",
    "        valid_mse = float(valid_mse)\n",
    "        valid_history.append(valid_mse)\n",
    "\n",
    "        # Update the best weights\n",
    "        if valid_mse < best_mse:\n",
    "            best_mse = valid_mse\n",
    "            best_weights = copy.deepcopy(model.state_dict())\n"
   ]
  },
  {
   "cell_type": "markdown",
   "metadata": {},
   "source": [
    " ## Evaluation\n",
    " Let's plot our training history to see how our model did."
   ]
  },
  {
   "cell_type": "code",
   "execution_count": 10,
   "metadata": {},
   "outputs": [
    {
     "name": "stdout",
     "output_type": "stream",
     "text": [
      "MSE: 0.30\n",
      "RMSE: 0.55\n"
     ]
    },
    {
     "data": {
      "image/png": "[encoded data removed]",
      "text/plain": [
       "<Figure size 640x480 with 1 Axes>"
      ]
     },
     "metadata": {},
     "output_type": "display_data"
    }
   ],
   "source": [
    "# restore model and return best version with the lowest validation loss\n",
    "model.load_state_dict(best_weights)\n",
    "print(\"MSE: %.2f\" % best_mse)\n",
    "print(\"RMSE: %.2f\" % np.sqrt(best_mse))\n",
    "# Overlay the training and validation loss history in a plot\n",
    "plt.plot(train_history, label=\"train\")\n",
    "plt.plot(valid_history, label=\"valid\")\n",
    "plt.legend()\n",
    "plt.xlabel(\"Epoch\")\n",
    "plt.ylabel(\"Loss: MSE\")\n",
    "plt.show()\n"
   ]
  },
  {
   "cell_type": "code",
   "execution_count": 11,
   "metadata": {},
   "outputs": [
    {
     "name": "stdout",
     "output_type": "stream",
     "text": [
      "[   7.5197   42.        4.24      0.72     40.        1.6      38.22\n",
      " -122.28  ] -> [3.8984962] (expected [2.75])\n",
      "[   4.95         36.            5.73850575    1.02298851  772.\n",
      "    2.2183908    37.75       -122.45      ] -> [3.225952] (expected [3.226])\n",
      "[   4.9464       14.            5.09716599    0.96356275  889.\n",
      "    3.59919028   32.91       -117.15      ] -> [1.748053] (expected [1.748])\n",
      "[ 4.75690000e+00  1.90000000e+01  5.70181219e+00  1.04448105e+00\n",
      "  2.79000000e+03  4.59637562e+00  3.69600000e+01 -1.21750000e+02] -> [2.0102959] (expected [1.908])\n",
      "[   4.0238       15.            3.8490566     1.02725367  942.\n",
      "    1.97484277   33.72       -118.04      ] -> [2.3648708] (expected [1.825])\n"
     ]
    }
   ],
   "source": [
    "model.eval()\n",
    "with torch.no_grad():  # Reduce memory usage during inference\n",
    "    # Test out inference with 5 samples\n",
    "    for i in range(5):\n",
    "        X_sample = X_valid_raw[i : i + 1]\n",
    "        X_sample = scaler.transform(X_sample)\n",
    "        X_sample = torch.tensor(X_sample, dtype=torch.float32)\n",
    "        y_valid_pred = model(X_sample)\n",
    "        print(\n",
    "            f\"{X_valid_raw[i]} -> {y_valid_pred[0].numpy()} (expected {y_valid[i].numpy()})\"\n",
    "        )\n"
   ]
  }
 ],
 "metadata": {
  "kernelspec": {
   "display_name": "Python 3 (ipykernel)",
   "language": "python",
   "name": "python3"
  },
  "language_info": {
   "codemirror_mode": {
    "name": "ipython",
    "version": 3
   },
   "file_extension": ".py",
   "mimetype": "text/x-python",
   "name": "python",
   "nbconvert_exporter": "python",
   "pygments_lexer": "ipython3",
   "version": "3.11.6"
  }
 },
 "nbformat": 4,
 "nbformat_minor": 4
}
